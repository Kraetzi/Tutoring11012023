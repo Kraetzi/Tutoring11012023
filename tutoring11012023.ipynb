{
 "cells": [
  {
   "attachments": {},
   "cell_type": "markdown",
   "metadata": {},
   "source": [
    "\n",
    "\n",
    "Create a class called `Foo` and add a `__str__` method to it. \n",
    " The `__str__` method should return a string representation of the class, \n",
    " such as \"I am an instance of Foo\".\n",
    "\n",
    "\n",
    "```python\n",
    "class Foo:\n",
    "    def __str__(self):\n",
    "        return \"I am an instance of Foo\"\n",
    "```\n",
    "What is a dunder method?\n",
    "\n",
    "A dunder method, also known as a \"magic method\", \n",
    " is a special method in Python that is denoted by double underscores (__). \n",
    " These methods are used to define behavior for built-in operations such as addition, subtraction, and comparison. They are also used to create classes and objects that have special properties."
   ]
  },
  {
   "attachments": {},
   "cell_type": "markdown",
   "metadata": {},
   "source": [
    "Create a class called `Person` that has two attributes: `name` and `age`. Add a `__eq__` dunder method to the class so that two `Person` instances will be considered equal if they have the same `name` and `age`.\n",
    "\n",
    "Solution:\n",
    "\n",
    "```python\n",
    "class Person:\n",
    "    def __init__(self, name, age):\n",
    "        self.name = name\n",
    "        self.age = age\n",
    "    \n",
    "    def __eq__(self, other):\n",
    "        return self.name == other.name and self.age == other.age\n",
    "```"
   ]
  },
  {
   "cell_type": "code",
   "execution_count": 54,
   "metadata": {},
   "outputs": [
    {
     "name": "stdout",
     "output_type": "stream",
     "text": [
      "Point (4,6)\n"
     ]
    }
   ],
   "source": [
    "#Create a class named “Point” with two instance variables: x and y, Overload the '+' operator, Create two Point objects, Add the two Point objects, Print the result\n",
    "\n",
    "class Point:\n",
    "    def __init__(self, x, y):\n",
    "        self.x = x\n",
    "        self.y = y\n",
    "\n",
    "    def __str__(self) -> str:\n",
    "        return f\"Point ({self.x},{self.y})\"\n",
    "    #Overload the '+' operator\n",
    "    def __add__(self, other):\n",
    "        x = self.x + other.x\n",
    "        y = self.y + other.y\n",
    "        return Point(x,y)\n",
    "\n",
    "# Create two Point objects\n",
    "point1 = Point(1,2)\n",
    "point2 = Point(3,4)\n",
    "\n",
    "# Add the two Point objects\n",
    "result = point1 + point2\n",
    "\n",
    "# Print the result\n",
    "print(result) # prints 4, 6"
   ]
  },
  {
   "cell_type": "code",
   "execution_count": 40,
   "metadata": {},
   "outputs": [
    {
     "name": "stdout",
     "output_type": "stream",
     "text": [
      "2 2\n"
     ]
    }
   ],
   "source": [
    "#Create a class named “Vector” that overloads the “-” operator to represent vector subtraction.\n",
    "class Vector:\n",
    "    def __init__(self, x, y):\n",
    "        self.x = x\n",
    "        self.y = y\n",
    "    \n",
    "    # Overload the '-' operator\n",
    "    def __sub__(self, other):\n",
    "        x = self.x - other.x\n",
    "        y = self.y - other.y\n",
    "        return Vector(x, y)\n",
    "\n",
    "# Create two Vector objects\n",
    "vector1 = Vector(3, 4)\n",
    "vector2 = Vector(1, 2)\n",
    "\n",
    "# Subtract the two Vector objects\n",
    "result = vector1 - vector2\n",
    "\n",
    "# Print the result\n",
    "print(result.x, result.y) # prints 2, 2"
   ]
  },
  {
   "attachments": {},
   "cell_type": "markdown",
   "metadata": {},
   "source": [
    " ####\n",
    "#    # # #    #  ####  #     ##### #####  ####  #    #  ####\n",
    "#      # ##   # #    # #     #       #   #    # ##   # #\n",
    " ####  # # #  # #      #     ####    #   #    # # #  #  ####\n",
    "     # # #  # # #  ### #     #       #   #    # #  # #      # \n",
    "#    # # #   ## #    # #     #       #   #    # #   ## #    #\n",
    " ####  # #    #  ####  ##### #####   #    ####  #    #  ####\n",
    "\n",
    "#####  ####  ####         #   #\n",
    "#     #    # #   #       # # # #\n",
    "##### #    # #   #       #  #  #\n",
    "#     #    # ####         #   #\n",
    "#     #    # #   #         # #\n",
    "#      ####  #    #         #\n",
    "\n",
    " #####\n",
    "#     # # #      # #####  #     ##### #####  ####  #    #  #### \n",
    "#       # ##    ## #    # #     #       #   #    # ##   # #\n",
    " #####  # # #  # # #    # #     #####   #   #    # # #  #  ####\n",
    "      # # #  ##  # #####  #     #       #   #    # #  # #      #\n",
    "#     # # #      # #      #     #       #   #    # #   ##      #\n",
    " #####  # #      # #      ##### #####   #    ####  #    #  ####"
   ]
  },
  {
   "attachments": {},
   "cell_type": "markdown",
   "metadata": {},
   "source": [
    "In Python, a Singleton is a class with only one instance. It creates an object and ensures that only one object of the class can be created. It is used when we want to ensure that only one object of a class exists throughout the lifetime of the program.\n",
    "\n",
    "There are three different ways to create a Singleton:\n",
    "-module-level Singleton\n",
    "-Classic Singleton\n",
    "-Borg Singleton"
   ]
  },
  {
   "attachments": {},
   "cell_type": "markdown",
   "metadata": {},
   "source": [
    "All modules are singleton, by definition.  Let’s create a simple module-level singleton where the data is shared among other modules. Here we will create three python files – singleton.py, sample_module1.py, and sample_module2.py – in which the other sample modules share a variable from singleton.py. \n",
    "\n",
    "## singleton.py\n",
    "shared_variable = \"Shared Variable\"\n",
    " singleton.py\n",
    "\n",
    "## samplemodule1.py\n",
    "import singleton\n",
    "print(singleton.shared_variable)\n",
    "singleton.shared_variable += \"(modified by samplemodule1)\"\n",
    "samplemodule1.py\n",
    "\n",
    "##samplemodule2.py\n",
    "import singleton\n",
    "print(singleton.shared_variable)"
   ]
  },
  {
   "cell_type": "code",
   "execution_count": 55,
   "metadata": {},
   "outputs": [
    {
     "name": "stdout",
     "output_type": "stream",
     "text": [
      "139745756105744 139745756105744\n",
      "True\n",
      "Singleton Variable\n"
     ]
    }
   ],
   "source": [
    "# Classic Singleton, gatekeeps the creation of an instance if there is one instance\n",
    "\n",
    "class SingletonClass(object):\n",
    "    def __new__(cls):\n",
    "        if not hasattr(cls, 'instance'):\n",
    "            cls.instance = super(SingletonClass, cls).__new__(cls)\n",
    "        return cls.instance\n",
    "\n",
    "singleton = SingletonClass()\n",
    "new_singleton = SingletonClass()\n",
    "print(id(singleton), id(new_singleton))\n",
    "print(singleton is new_singleton)\n",
    "\n",
    "singleton.singl_variable = \"Singleton Variable\"\n",
    "print(new_singleton.singl_variable)\n"
   ]
  },
  {
   "cell_type": "code",
   "execution_count": 57,
   "metadata": {},
   "outputs": [
    {
     "name": "stdout",
     "output_type": "stream",
     "text": [
      "True\n",
      "139745381946800 139745381946800\n",
      "Singleton Variable\n"
     ]
    }
   ],
   "source": [
    "#Trying to subclass:\n",
    "\n",
    "class SingletonClass(object):\n",
    "    def __new__(cls):\n",
    "        if not hasattr(cls, 'instance'):\n",
    "            cls.instance = super(SingletonClass, cls).__new__(cls)\n",
    "        return cls.instance\n",
    "\n",
    "class SingletonChild(SingletonClass):\n",
    "\tpass\n",
    "\n",
    "singleton = SingletonClass()\n",
    "child = SingletonChild()\n",
    "print(child is singleton)\n",
    "print(id(singleton), id(child))\n",
    "singleton.singl_variable = \"Singleton Variable\"\n",
    "print(child.singl_variable)\n"
   ]
  },
  {
   "cell_type": "code",
   "execution_count": 61,
   "metadata": {},
   "outputs": [
    {
     "name": "stdout",
     "output_type": "stream",
     "text": [
      "False\n",
      "139745381812832 139745381813072\n",
      "Shared Variable\n"
     ]
    }
   ],
   "source": [
    "# Borg Singleton \n",
    "\n",
    "class BorgSingleton(object):\n",
    "    _shared_borg_state = {}\n",
    "\n",
    "    def __new__(cls, *args, **kwargs):\n",
    "        obj = super(BorgSingleton, cls).__new__(cls, *args, **kwargs)\n",
    "        obj.__dict__ = cls._shared_borg_state\n",
    "        return obj\n",
    "\n",
    "borg = BorgSingleton()\n",
    "borg.shared_variable = \"Shared Variable\"\n",
    "\n",
    "class ChildBorg(BorgSingleton):\n",
    "    __shared__borg_state = {}\n",
    "\n",
    "childBorg = ChildBorg()\n",
    "print(childBorg is borg)\n",
    "print(id(borg), id(childBorg))\n",
    "print(childBorg.shared_variable)\n"
   ]
  },
  {
   "cell_type": "code",
   "execution_count": 63,
   "metadata": {},
   "outputs": [
    {
     "ename": "AttributeError",
     "evalue": "'NewChildBorg' object has no attribute 'shared_variable'",
     "output_type": "error",
     "traceback": [
      "\u001b[0;31m---------------------------------------------------------------------------\u001b[0m",
      "\u001b[0;31mAttributeError\u001b[0m                            Traceback (most recent call last)",
      "Cell \u001b[0;32mIn [63], line 17\u001b[0m\n\u001b[1;32m     14\u001b[0m \t_shared_borg_state \u001b[39m=\u001b[39m {}\n\u001b[1;32m     16\u001b[0m newChildBorg \u001b[39m=\u001b[39m NewChildBorg()\n\u001b[0;32m---> 17\u001b[0m \u001b[39mprint\u001b[39m(newChildBorg\u001b[39m.\u001b[39;49mshared_variable)\n",
      "\u001b[0;31mAttributeError\u001b[0m: 'NewChildBorg' object has no attribute 'shared_variable'"
     ]
    }
   ],
   "source": [
    "#Trying to reset a shared state\n",
    "class BorgSingleton(object):\n",
    "\t_shared_borg_state = {}\n",
    "\n",
    "\tdef __new__(cls, *args, **kwargs):\n",
    "\t\tobj = super(BorgSingleton, cls).__new__(cls, *args, **kwargs)\n",
    "\t\tobj.__dict__ = cls._shared_borg_state\n",
    "\t\treturn obj\n",
    "\n",
    "borg = BorgSingleton()\n",
    "borg.shared_variable = \"Shared Variable\"\n",
    "\n",
    "class NewChildBorg(BorgSingleton):\n",
    "\t_shared_borg_state = {}\n",
    "\n",
    "newChildBorg = NewChildBorg()\n",
    "print(newChildBorg.shared_variable)\n"
   ]
  },
  {
   "cell_type": "code",
   "execution_count": 32,
   "metadata": {},
   "outputs": [
    {
     "name": "stdout",
     "output_type": "stream",
     "text": [
      "['foo', 'bar']\n"
     ]
    }
   ],
   "source": [
    "#Create a singleton class that stores a list of strings and allows only one instance of the class to be created.\n",
    "\n",
    "class Singleton:\n",
    "    _instance = None\n",
    "    _list = []\n",
    "\n",
    "    def __new__(cls, *args, **kwargs):\n",
    "        if not cls._instance:\n",
    "            cls._instance = super().__new__(cls)\n",
    "        return cls._instance\n",
    "\n",
    "    def add_string(self, s):\n",
    "        self._list.append(s)\n",
    "\n",
    "    def print_strings(self):\n",
    "        print(self._list)\n",
    "\n",
    "# Create an instance of the Singleton class\n",
    "s = Singleton()\n",
    "\n",
    "# Add strings to the list\n",
    "s.add_string(\"foo\")\n",
    "s.add_string(\"bar\")\n",
    "\n",
    "# Print the list\n",
    "s.print_strings() # prints [\"foo\", \"bar\"]"
   ]
  },
  {
   "cell_type": "code",
   "execution_count": 9,
   "metadata": {},
   "outputs": [
    {
     "name": "stdout",
     "output_type": "stream",
     "text": [
      "2 139745755988464\n",
      "2 139745755988464\n",
      "2 139745755988464\n"
     ]
    }
   ],
   "source": [
    "#Create a Singleton class that adds a unique identifier to each instance of the class and implements the singleton pattern. (to see whats happening there, also print the memory-id of the instance)\n",
    "\n",
    "class Singleton:\n",
    "    _unique_id = 0\n",
    "\n",
    "    def __new__(cls, *args, **kwargs):\n",
    "        if not hasattr(cls, '_instance'):\n",
    "            cls._instance = super().__new__(cls)\n",
    "        return cls._instance\n",
    "\n",
    "    def __init__(self, *args, **kwargs):\n",
    "        self.unique_id = Singleton._unique_id\n",
    "        Singleton._unique_id += 1 \n",
    "\n",
    "# Create two instances of the Singleton class\n",
    "instance1 = Singleton()\n",
    "instance2 = Singleton()\n",
    "instance3 = Singleton()\n",
    "# Print the unique IDs\n",
    "print(instance1.unique_id, id(instance1)) # prints 0?\n",
    "print(instance2.unique_id, id(instance2)) # prints 1\n",
    "print(instance3.unique_id, id(instance3))"
   ]
  },
  {
   "attachments": {},
   "cell_type": "markdown",
   "metadata": {},
   "source": [
    "Factory decorators are a design pattern in Python \n",
    "which are used to create objects (instances of classes) \n",
    "based on some input. The input is usually a string or number, \n",
    "and the factory decorator will create an instance of the appropriate class. The factory decorator is a function that takes in the input and returns an instance of the class.\n"
   ]
  },
  {
   "cell_type": "code",
   "execution_count": 15,
   "metadata": {},
   "outputs": [
    {
     "name": "stdout",
     "output_type": "stream",
     "text": [
      "<__main__.Car object at 0x7f1918250700>\n",
      "<__main__.Bike object at 0x7f19182501c0>\n"
     ]
    }
   ],
   "source": [
    "\n",
    "#For example:\n",
    "\n",
    "# Define base class\n",
    "class Vehicle:\n",
    "    def __init__(self, name):\n",
    "        self.name = name\n",
    "\n",
    "# Define subclasses\n",
    "class Car(Vehicle):\n",
    "    def __init__(self, name):\n",
    "        super().__init__(name)\n",
    "\n",
    "class Bike(Vehicle):\n",
    "    def __init__(self, name):\n",
    "        super().__init__(name)\n",
    "\n",
    "# Define factory function\n",
    "def vehicle_factory(name, type):\n",
    "    if type == \"car\":\n",
    "        return Car(name)\n",
    "    elif type == \"bike\":\n",
    "        return Bike(name)\n",
    "\n",
    "# Create instances\n",
    "vehicle1 = vehicle_factory(\"Ford\", \"car\")\n",
    "vehicle2 = vehicle_factory(\"Honda\", \"bike\")\n",
    "print(vehicle1)\n",
    "print(vehicle2)"
   ]
  },
  {
   "cell_type": "code",
   "execution_count": 20,
   "metadata": {},
   "outputs": [
    {
     "name": "stdout",
     "output_type": "stream",
     "text": [
      "<__main__.Hammer object at 0x7f19182450d0>\n",
      "<__main__.Screwdriver object at 0x7f1901ef6370>\n"
     ]
    }
   ],
   "source": [
    "#Create a factory function that takes in a type and returns an instance of the appropriate tool.\n",
    "class Tool:\n",
    "    def __init__(self) -> None:\n",
    "        pass\n",
    "class Hammer(Tool):\n",
    "    def __init__(self) -> None:\n",
    "        super().__init__()\n",
    "class Screwdriver(Tool):\n",
    "    def __init__(self) -> None:\n",
    "        super().__init__()\n",
    "       \n",
    "def tool_factory(type):\n",
    "    if type == \"hammer\":\n",
    "        return Hammer()\n",
    "    elif type == \"screwdriver\":\n",
    "        return Screwdriver()\n",
    "\n",
    "# Create instances\n",
    "tool1 = tool_factory(\"hammer\")\n",
    "tool2 = tool_factory(\"screwdriver\")\n",
    "print(tool1)\n",
    "print(tool2)"
   ]
  },
  {
   "cell_type": "code",
   "execution_count": 31,
   "metadata": {},
   "outputs": [
    {
     "name": "stdout",
     "output_type": "stream",
     "text": [
      "<class '__main__.Hammer'> large wood\n",
      "<class '__main__.Screwdriver'> small metal\n"
     ]
    }
   ],
   "source": [
    "#Create a factory function that takes in a type, a size, and a material and returns an instance of the appropriate tool with the provided parameters.\n",
    "class Tool:\n",
    "    def __init__(self) -> None:\n",
    "        pass\n",
    "\n",
    "    def print_attribute(self, **args):\n",
    "        print(args)\n",
    "class Hammer(Tool):\n",
    "    def __init__(self, size, material) -> None:\n",
    "        super().__init__()\n",
    "        self.size = size\n",
    "        self.material = material\n",
    "\n",
    "    def print_attribute(self):\n",
    "        print(self.__class__,self.size, self.material)\n",
    "\n",
    "class Screwdriver(Tool):\n",
    "    def __init__(self, size, material) -> None:\n",
    "        super().__init__()\n",
    "        self.size = size\n",
    "        self.material = material\n",
    "\n",
    "    def print_attribute(self):\n",
    "        print (self.__class__,self.size, self.material)\n",
    "\n",
    "def tool_factory(type, size, material):\n",
    "    if type == \"hammer\":\n",
    "        return Hammer(size, material)\n",
    "    elif type == \"screwdriver\":\n",
    "        return Screwdriver(size, material)\n",
    "\n",
    "# Create instances\n",
    "tool1 = tool_factory(\"hammer\", \"large\", \"wood\")\n",
    "tool2 = tool_factory(\"screwdriver\", \"small\", \"metal\")\n",
    "tool1.print_attribute()\n",
    "tool2.print_attribute()"
   ]
  }
 ],
 "metadata": {
  "kernelspec": {
   "display_name": "Python 3",
   "language": "python",
   "name": "python3"
  },
  "language_info": {
   "codemirror_mode": {
    "name": "ipython",
    "version": 3
   },
   "file_extension": ".py",
   "mimetype": "text/x-python",
   "name": "python",
   "nbconvert_exporter": "python",
   "pygments_lexer": "ipython3",
   "version": "3.8.10"
  },
  "orig_nbformat": 4,
  "vscode": {
   "interpreter": {
    "hash": "916dbcbb3f70747c44a77c7bcd40155683ae19c65e1c03b4aa3499c5328201f1"
   }
  }
 },
 "nbformat": 4,
 "nbformat_minor": 2
}
